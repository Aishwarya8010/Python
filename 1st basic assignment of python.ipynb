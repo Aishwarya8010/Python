{
 "cells": [
  {
   "cell_type": "markdown",
   "id": "68db6292",
   "metadata": {},
   "source": [
    "# Simple messages"
   ]
  },
  {
   "cell_type": "markdown",
   "id": "2198fa88",
   "metadata": {},
   "source": [
    "Assign a message to a variable, and print that message.Then change the value of your variable to a new message, and print the new message."
   ]
  },
  {
   "cell_type": "code",
   "execution_count": 46,
   "id": "d66ce7ec",
   "metadata": {},
   "outputs": [
    {
     "name": "stdout",
     "output_type": "stream",
     "text": [
      "My favorite language for maintainability is Python\n",
      "python language easy to learn\n"
     ]
    }
   ],
   "source": [
    "msg='My favorite language for maintainability is Python'\n",
    "print(msg)\n",
    "msg='python language easy to learn'\n",
    "print(msg)"
   ]
  },
  {
   "cell_type": "markdown",
   "id": "29f606b2",
   "metadata": {},
   "source": [
    "Store a message in a variable and print that message. Then change the \n",
    "value of your variable to a new message and print the new message."
   ]
  },
  {
   "cell_type": "code",
   "execution_count": 45,
   "id": "6937a202",
   "metadata": {},
   "outputs": [
    {
     "name": "stdout",
     "output_type": "stream",
     "text": [
      "Hello, world!\n",
      "Goodbye, world!\n"
     ]
    }
   ],
   "source": [
    "msg = \"Hello, world!\"\n",
    "print(msg)\n",
    "msg = \"Goodbye, world!\"\n",
    "print(msg)"
   ]
  },
  {
   "cell_type": "markdown",
   "id": "6327b271",
   "metadata": {},
   "source": [
    "# favorite Number"
   ]
  },
  {
   "cell_type": "markdown",
   "id": "84512bb8",
   "metadata": {},
   "source": [
    "Use a variable to represent your favorite number. Then using that variable, create a message that reveals your favorite number. Print that message."
   ]
  },
  {
   "cell_type": "code",
   "execution_count": 8,
   "id": "bf66aef3",
   "metadata": {},
   "outputs": [
    {
     "name": "stdout",
     "output_type": "stream",
     "text": [
      "my favorite number is (fav_num).\n"
     ]
    }
   ],
   "source": [
    "# fav_num = 23\n",
    "msg = f\"my favorite number is (fav_num).\"\n",
    "print(msg)\n"
   ]
  },
  {
   "cell_type": "markdown",
   "id": "ee5f90c9",
   "metadata": {},
   "source": [
    "# Personalized message\n"
   ]
  },
  {
   "cell_type": "markdown",
   "id": "af66c300",
   "metadata": {},
   "source": [
    "Store the user's name in a variable and display a message to the user. The displayed message should be very simple, such as \"Hello Eric, would you like to learn some Python today?\"."
   ]
  },
  {
   "cell_type": "code",
   "execution_count": 7,
   "id": "2efd75d4",
   "metadata": {},
   "outputs": [
    {
     "name": "stdout",
     "output_type": "stream",
     "text": [
      "Hello Eric,would you like to learn some python today?\n"
     ]
    }
   ],
   "source": [
    "name='Eric'\n",
    "msg=\"Hello \"+name+\",would you like to learn some python today?\"\n",
    "print(msg)"
   ]
  },
  {
   "cell_type": "markdown",
   "id": "a521304f",
   "metadata": {},
   "source": [
    "# Names"
   ]
  },
  {
   "cell_type": "markdown",
   "id": "77cce95e",
   "metadata": {},
   "source": [
    "Store the names of a few of your friends in a list called names. Print each person's names by accessing each element in the list, one at a time."
   ]
  },
  {
   "cell_type": "code",
   "execution_count": 48,
   "id": "dcf37e63",
   "metadata": {},
   "outputs": [
    {
     "name": "stdout",
     "output_type": "stream",
     "text": [
      "shiv\n",
      "shakti\n",
      "ram\n"
     ]
    }
   ],
   "source": [
    "Names= ('shiv','shakti','ram')\n",
    "print(Names[0]) \n",
    "print(Names[1])\n",
    "print(Names[2])"
   ]
  },
  {
   "cell_type": "markdown",
   "id": "6b0975f7",
   "metadata": {},
   "source": [
    "# Famous Quote"
   ]
  },
  {
   "cell_type": "markdown",
   "id": "641219f8",
   "metadata": {},
   "source": [
    "Find a quote from a famous person you admire. Print the quote and the \n",
    "name of its author. Your output should look something like the following, \n",
    "including the quotation marks:"
   ]
  },
  {
   "cell_type": "markdown",
   "id": "7fa3150d",
   "metadata": {},
   "source": [
    "Albert Einstein once said, “A person who \n",
    "never made a mistake never tried anything new.”"
   ]
  },
  {
   "cell_type": "code",
   "execution_count": 17,
   "id": "94c2c2a0",
   "metadata": {},
   "outputs": [
    {
     "name": "stdout",
     "output_type": "stream",
     "text": [
      "Albert Einstein once said, \"A person who never made a mistake\n",
      "never tried anything new.\"\n"
     ]
    }
   ],
   "source": [
    "print('Albert Einstein once said, \"A person who never made a mistake')\n",
    "print('never tried anything new.\"')"
   ]
  },
  {
   "cell_type": "markdown",
   "id": "15dcc276",
   "metadata": {},
   "source": [
    "Repeat Exercise 4, but this time store the famous person’s name in a \n",
    "variable called famous_person. Then compose your message and store it in \n",
    "a new variable called message. Print your message."
   ]
  },
  {
   "cell_type": "code",
   "execution_count": 18,
   "id": "3c85494b",
   "metadata": {},
   "outputs": [
    {
     "name": "stdout",
     "output_type": "stream",
     "text": [
      "Albert Einsteinonce said, \"Imagination is more important than knowledge.\"\n"
     ]
    }
   ],
   "source": [
    "famous_person= \"Albert Einstein\"\n",
    "message= famous_person + 'once said, \"Imagination is more important than knowledge.\"'\n",
    "print(message)"
   ]
  },
  {
   "cell_type": "markdown",
   "id": "d8f24b58",
   "metadata": {},
   "source": [
    "# Calculations"
   ]
  },
  {
   "cell_type": "markdown",
   "id": "caa8b15b",
   "metadata": {},
   "source": [
    "Write addition, subtraction, multiplication, and division operations that \n",
    "each result in the number 8. Be sure to enclose your operations in print \n",
    "statements to see the results. You should create four lines that look like \n",
    "this: print (5 + 3)\n",
    "Your output should simply be four lines with the number 8 appearing once on each line."
   ]
  },
  {
   "cell_type": "code",
   "execution_count": 19,
   "id": "024e210f",
   "metadata": {},
   "outputs": [
    {
     "name": "stdout",
     "output_type": "stream",
     "text": [
      "8\n",
      "8\n",
      "8\n",
      "8.0\n"
     ]
    }
   ],
   "source": [
    "print(5+3)\n",
    "print(12-4)\n",
    "print(2*4)\n",
    "print(48/6)"
   ]
  },
  {
   "cell_type": "markdown",
   "id": "0f1bab8a",
   "metadata": {},
   "source": [
    "# Greetings"
   ]
  },
  {
   "cell_type": "markdown",
   "id": "78a0a64d",
   "metadata": {},
   "source": [
    "Store the names of a few of your friends in a list called names. Print each \n",
    "person’s name by accessing each element in the list, one at a time."
   ]
  },
  {
   "cell_type": "code",
   "execution_count": 55,
   "id": "36cb422c",
   "metadata": {},
   "outputs": [
    {
     "name": "stdout",
     "output_type": "stream",
     "text": [
      "Hello, Shiv!\n",
      "Hello, Shakti!\n",
      "Hello, Ram!\n"
     ]
    }
   ],
   "source": [
    "Names= ('shiv','shakti','ram')\n",
    "\n",
    "msg = f\"Hello, {Name[0].title()}!\"\n",
    "print(msg)\n",
    "\n",
    "msg = f\"Hello, {Name[1].title()}!\"\n",
    "print(msg)\n",
    "\n",
    "msg = f\"Hello, {Name[2].title()}!\"\n",
    "print(msg)"
   ]
  },
  {
   "cell_type": "markdown",
   "id": "9cdd7a45",
   "metadata": {},
   "source": [
    "# Favorite mode of transporatation\n"
   ]
  },
  {
   "cell_type": "markdown",
   "id": "30b072e5",
   "metadata": {},
   "source": [
    "Think of your favourite mode of transportation, such as a motorcycle or a \n",
    "car, and make a list that stores several examples. Use your list to print a \n",
    "series of statements about these items, such as “I would like to own a \n",
    "Honda motorcycle.”"
   ]
  },
  {
   "cell_type": "markdown",
   "id": "9290e362",
   "metadata": {},
   "source": [
    "Here are some examples of my favorite modes of transportation:"
   ]
  },
  {
   "cell_type": "code",
   "execution_count": 41,
   "id": "a862aea9",
   "metadata": {},
   "outputs": [
    {
     "name": "stdout",
     "output_type": "stream",
     "text": [
      "I would like to own a Audi R8.\n",
      "I would like to own a Lamborghini Aventador.\n",
      "I would like to own a Porsche 911.\n",
      "I would like to own a Mercedes-Benz S-Class.\n",
      "I would like to own a Ducati Panigale V4.\n",
      "I would like to own a BMW S 1000 RR.\n",
      "I would like to own a Kawasaki Ninja ZX-10R.\n",
      "I would like to own a Yamaha YZF-R1M.\n"
     ]
    }
   ],
   "source": [
    "my_favorite_cars = [\"Audi R8\", \"Lamborghini Aventador\", \"Porsche 911\", \"Mercedes-Benz S-Class\"]\n",
    "my_favorite_motorcycles = [\"Ducati Panigale V4\", \"BMW S 1000 RR\", \"Kawasaki Ninja ZX-10R\", \"Yamaha YZF-R1M\"]\n",
    "\n",
    "for car in my_favorite_cars:\n",
    "    print(f\"I would like to own a {car}.\")\n",
    "\n",
    "for motorcycle in my_favorite_motorcycles:\n",
    "    print(f\"I would like to own a {motorcycle}.\")"
   ]
  },
  {
   "cell_type": "code",
   "execution_count": null,
   "id": "50f89226",
   "metadata": {},
   "outputs": [],
   "source": []
  }
 ],
 "metadata": {
  "kernelspec": {
   "display_name": "Python 3 (ipykernel)",
   "language": "python",
   "name": "python3"
  },
  "language_info": {
   "codemirror_mode": {
    "name": "ipython",
    "version": 3
   },
   "file_extension": ".py",
   "mimetype": "text/x-python",
   "name": "python",
   "nbconvert_exporter": "python",
   "pygments_lexer": "ipython3",
   "version": "3.10.9"
  }
 },
 "nbformat": 4,
 "nbformat_minor": 5
}
