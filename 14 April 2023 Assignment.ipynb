{
 "cells": [
  {
   "cell_type": "markdown",
   "id": "2950c82a",
   "metadata": {},
   "source": [
    "# Mailing Address"
   ]
  },
  {
   "cell_type": "markdown",
   "id": "93dc68f0",
   "metadata": {},
   "source": [
    "Create a program that displays your name and complete mailing address formatted in the \n",
    "manner that you would usually see it on the outside of an envelope. Your program does not \n",
    "need to read any input from the use"
   ]
  },
  {
   "cell_type": "code",
   "execution_count": 2,
   "id": "c7ab52db",
   "metadata": {},
   "outputs": [
    {
     "name": "stdout",
     "output_type": "stream",
     "text": [
      "Bob Smith\n",
      "405 Liberty Lane\n",
      "Wilmington, NC\n"
     ]
    }
   ],
   "source": [
    "print (\"Bob Smith\")\n",
    "print (\"405 Liberty Lane\")\n",
    "print (\"Wilmington, NC\")\n"
   ]
  },
  {
   "cell_type": "markdown",
   "id": "5318d6e1",
   "metadata": {},
   "source": [
    "# Hello"
   ]
  },
  {
   "cell_type": "markdown",
   "id": "97ef5208",
   "metadata": {},
   "source": [
    "Write a program that asks the user to enter his or her name. The program should respond \n",
    "with a message that says hello to the user, using his or her name\n"
   ]
  },
  {
   "cell_type": "code",
   "execution_count": null,
   "id": "f98c4bf5",
   "metadata": {},
   "outputs": [],
   "source": [
    "NAME=str(input(\"enter the name: \"))\n",
    "print(\"hello\",NAME)"
   ]
  },
  {
   "cell_type": "markdown",
   "id": "bb9d9361",
   "metadata": {},
   "source": [
    "# Area of a Room"
   ]
  },
  {
   "cell_type": "markdown",
   "id": "9bc544a2",
   "metadata": {},
   "source": [
    "Write a program that asks the user to enter the width and length of a room. Once the values \n",
    "have been read, your program should compute and display the area of the room. The length \n",
    "and the width will be entered as floating-point numbers. Include units in your prompt and \n",
    "output message; either feet or meters, depending on which unit you are more comfortable \n",
    "working with.\n"
   ]
  },
  {
   "cell_type": "code",
   "execution_count": null,
   "id": "f91b23f1",
   "metadata": {},
   "outputs": [],
   "source": [
    "## \n",
    "# Compute the area of a room.   \n",
    "# \n",
    "\n",
    "# Read the dimensions from the user \n",
    "length = float (input (\"Enter the length of the room in feet: \")) \n",
    "width = float (input (\"Enter the width of the room in feet: \")) \n",
    "\n",
    "# Compute the area of the room   \n",
    "area = length * width   \n",
    "\n",
    "# Display the result \n",
    "print (\"The area of the room is\", area, \"square feet\") \n"
   ]
  },
  {
   "cell_type": "markdown",
   "id": "d96d3301",
   "metadata": {},
   "source": [
    "# Area of a Field"
   ]
  },
  {
   "cell_type": "markdown",
   "id": "dfeb4b9e",
   "metadata": {},
   "source": [
    "Create a program that reads the length and width of a farmer’s field from the user in feet. \n",
    "Display the area of the field in acres.\n",
    "Hint: There are 43,560 square feet in an acre\n"
   ]
  },
  {
   "cell_type": "code",
   "execution_count": null,
   "id": "6dc3e619",
   "metadata": {},
   "outputs": [],
   "source": [
    "## \n",
    "# Compute the area of a field, reporting the result in acres. \n",
    "# \n",
    "SQFT_PER_ACRE = 43560 \n",
    "\n",
    "# Read the dimensions from the user \n",
    "length = float (input (\"Enter the length of the field in feet: \")) \n",
    "width = float (input (\"Enter the width of the field in feet: \")) \n",
    "\n",
    "# Compute the area in acres \n",
    "acres = length * width / SQFT_PER_ACRE \n",
    "\n",
    "# Display the result \n",
    "print (\"The area of the field is\", acres, \"acres\") "
   ]
  },
  {
   "cell_type": "markdown",
   "id": "fa465c1a",
   "metadata": {},
   "source": [
    "# Bottle Deposits"
   ]
  },
  {
   "cell_type": "markdown",
   "id": "88f01cb9",
   "metadata": {},
   "source": [
    "n many jurisdictions a small deposit is added to drink containers to encourage people to \n",
    "recycle them. In one particular jurisdiction, drink containers holding one litre or less have a \n",
    "$0.10 deposit, and drink containers holding more than one litre have a $0.25 deposit. Write \n",
    "a program that reads the number of containers of each size from the user. Your program \n",
    "should continue by computing and displaying the refund that will be received for returning \n",
    "those containers. Format the output so that it includes a dollar sign and always displays \n",
    "exactly two decimal places."
   ]
  },
  {
   "cell_type": "code",
   "execution_count": null,
   "id": "597d9dd6",
   "metadata": {},
   "outputs": [],
   "source": [
    "## \n",
    "# Compute the refund amount for a collection of bottles. \n",
    "# \n",
    "LESS_DEPOSIT = 0.10 \n",
    "MORE_DEPOSIT = 0.25 \n",
    "\n",
    "# Read the number of containers of each size from the user \n",
    "less = int (input (\"How many containers 1 litre or less? \")) \n",
    "more = int (input (\"How many containers more than 1 litre? \")) \n",
    "\n",
    "# Compute the refund amount \n",
    "refund = less * LESS_DEPOSIT + more * MORE_DEPOSIT \n",
    "\n",
    "# Display the result \n",
    "print (\"Your total refund will be $%.2f.\" % refund) \n",
    "\n"
   ]
  },
  {
   "cell_type": "markdown",
   "id": "c3cfadca",
   "metadata": {},
   "source": [
    "# Tax and Tip"
   ]
  },
  {
   "cell_type": "markdown",
   "id": "40a148cf",
   "metadata": {},
   "source": [
    "The program that you create for this exercise will begin by reading the cost of a meal \n",
    "ordered at a restaurant from the user. Then your program will compute the tax and tip for \n",
    "the meal. Use your local tax rate when computing the amount of tax owing. Compute the tip \n",
    "as 18 percent of the meal amount (without the tax). The output from your program should \n",
    "include the tax amount, the tip amount, and the grand total for the meal including both the tax and the tip. Format the output so that all of the values are displayed using two decimal \n",
    "places."
   ]
  },
  {
   "cell_type": "code",
   "execution_count": null,
   "id": "c9813141",
   "metadata": {},
   "outputs": [],
   "source": [
    "## \n",
    "# Compute the tax and tip for a restaurant meal. \n",
    "# \n",
    "TAX_RATE = 0.05 \n",
    "TIP_RATE = 0.18 \n",
    "\n",
    "# My local tax rate is 5%. \n",
    "# In Python we represent 5% and 18% as 0.05 and 0.18 respectively. \n",
    "\n",
    "# Read the cost of the meal from the user \n",
    "cost = float (input (\"Enter the cost of the meal: \")) \n",
    "\n",
    "# Compute the tax and the tip \n",
    "tax = cost * TAX_RATE \n",
    "tip = cost * TIP_RATE \n",
    "total = cost + tax + tip \n",
    "\n",
    "# Display the result \n",
    "print (\"The tax is %.2f and the tip is %.2f, making the\", \\\n",
    "  \"total %.2f\" % (tax, tip, total)) "
   ]
  },
  {
   "cell_type": "code",
   "execution_count": null,
   "id": "a88c8ee4",
   "metadata": {},
   "outputs": [],
   "source": []
  }
 ],
 "metadata": {
  "kernelspec": {
   "display_name": "Python 3 (ipykernel)",
   "language": "python",
   "name": "python3"
  },
  "language_info": {
   "codemirror_mode": {
    "name": "ipython",
    "version": 3
   },
   "file_extension": ".py",
   "mimetype": "text/x-python",
   "name": "python",
   "nbconvert_exporter": "python",
   "pygments_lexer": "ipython3",
   "version": "3.10.9"
  }
 },
 "nbformat": 4,
 "nbformat_minor": 5
}
